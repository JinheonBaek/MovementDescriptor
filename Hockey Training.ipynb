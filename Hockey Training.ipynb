{
 "cells": [
  {
   "cell_type": "code",
   "execution_count": 20,
   "metadata": {
    "collapsed": true
   },
   "outputs": [],
   "source": [
    "### movement descriptor\n",
    "## Hockey Training\n",
    "\n",
    "# Import Library\n",
    "import cv2\n",
    "import numpy as np\n",
    "import os\n",
    "import math\n",
    "from PIL import Image\n",
    "import csv \n",
    "import pickle"
   ]
  },
  {
   "cell_type": "code",
   "execution_count": 2,
   "metadata": {
    "collapsed": true
   },
   "outputs": [],
   "source": [
    "# Directory of hockey dataset\n",
    "#_path = r'C:\\Users\\Jinhe\\Desktop\\HockeyFights'\n",
    "_path = r'C:\\Users\\Jinhe\\Desktop\\temp'\n",
    "videos = os.listdir(_path)"
   ]
  },
  {
   "cell_type": "code",
   "execution_count": 3,
   "metadata": {
    "collapsed": true
   },
   "outputs": [],
   "source": [
    "# resize frame for unified features count\n",
    "height = 720\n",
    "width = 1280\n",
    "# height = row\n",
    "# sub_width * sub_height = number of features about movement descriptor\n",
    "sub_height = int(width/15)\n",
    "sub_width = int(width/15)"
   ]
  },
  {
   "cell_type": "code",
   "execution_count": 13,
   "metadata": {
    "collapsed": true
   },
   "outputs": [],
   "source": [
    "isFight = False"
   ]
  },
  {
   "cell_type": "code",
   "execution_count": null,
   "metadata": {},
   "outputs": [],
   "source": [
    "# calculate video flows\n",
    "\n",
    "for video in videos:\n",
    "    \n",
    "    if video[:1] == 'f':\n",
    "        isFight = True\n",
    "    else:\n",
    "        isFight = False\n",
    "    \n",
    "    # Read video\n",
    "    cap = cv2.VideoCapture(_path + '\\\\' + video)\n",
    "    \n",
    "    # init freame size\n",
    "    frame_size = int(cap.get(cv2.CAP_PROP_FRAME_COUNT))\n",
    "    frames = np.zeros((frame_size, height, width))\n",
    "    \n",
    "    for i in range(frame_size):\n",
    "        (ret, frame) = cap.read()\n",
    "        \n",
    "        frame = np.array(Image.fromarray(frame).resize((width, height)))\n",
    "        frames[i] = cv2.cvtColor(frame, cv2.COLOR_BGR2GRAY)\n",
    "    \n",
    "    # Calculate flow\n",
    "    flows = np.zeros((frame_size - 1, height, width, 2))\n",
    "    for i in range(frame_size - 1):\n",
    "        flows[i] = cv2.calcOpticalFlowFarneback(frames[i], frames[i+1], None, 0.5, 3, 15, 3, 5, 1.2, 0)\n",
    "    \n",
    "    # Calculate Magnititude & angle\n",
    "    mags = np.zeros((frame_size - 1, height, width))\n",
    "    angs = np.zeros((frame_size - 1, height, width))\n",
    "    \n",
    "    # File open\n",
    "    f = open((video[:len(video)-4] + '.csv'), 'w', encoding='utf-8', newline='')\n",
    "    wr = csv.writer(f)\n",
    "    wr.writerow(['isFight', 'mags', 'angs'])\n",
    "    \n",
    "    for i in range(frame_size - 1):\n",
    "        mags[i], angs[i] = cv2.cartToPolar(flows[i, :, :, 0], flows[i, :, :, 1])\n",
    "    \n",
    "    dat = [mags, angs]\n",
    "    \n",
    "    with open (video[:len(video)-4] + '.dat', 'wb') as f:\n",
    "        pickle.dump(dat, f)"
   ]
  },
  {
   "cell_type": "code",
   "execution_count": 30,
   "metadata": {},
   "outputs": [
    {
     "data": {
      "text/plain": [
       "(40, 720, 1280)"
      ]
     },
     "execution_count": 30,
     "metadata": {},
     "output_type": "execute_result"
    }
   ],
   "source": [
    "with open ('fi10_xvid.dat', 'rb') as f:\n",
    "    data = pickle.load(f)"
   ]
  },
  {
   "cell_type": "code",
   "execution_count": null,
   "metadata": {
    "collapsed": true
   },
   "outputs": [],
   "source": [
    "# Variation of two frames that stick together\n",
    "Ds = np.zeros(frame_size - 1, sub_height, sub_width)\n",
    "\n",
    "# sub Area\n",
    "sub_mags = np.zeros((frame_size - 1, 15, 15))\n",
    "sub_angs = np.zeros((frame_size - 1, 15, 15))"
   ]
  },
  {
   "cell_type": "code",
   "execution_count": null,
   "metadata": {
    "collapsed": true
   },
   "outputs": [],
   "source": [
    "\n",
    "##최종적으로 각 컷마다 Motion Binary Map 저장\n",
    "MBM_means = np.zeros((row_sub,col_sub,1000))\n",
    "#ex) MBM_means[:,:,0] : 첫번째 컷의 움직임 서술자\n",
    "    \n",
    "\n",
    "list_len = 41 #프레임 갯수\n",
    "\n",
    "\n",
    "for video in range(1000):\n",
    "    \n",
    "    if index % 50 == 0:\n",
    "        print(index)\n",
    "    \n",
    "    #video번째 컷이 들어있는 파일의 경로\n",
    "    path = path_+'/'+os.listdir(path_)[video]\n",
    "    \n",
    "    #video번째 영상 불러오기\n",
    "    cap = cv2.VideoCapture(path)\n",
    "    \n",
    "    #해당 영상의 프레임들 다 모으기\n",
    "    frames = np.zeros((row_len,col_len,list_len))\n",
    "\n",
    "    for i in range(41):\n",
    "        ret, frame = cap.read() #프레임 하나씩\n",
    "       \n",
    "    #flow에 따른 mag, ang (40장 : 720x1280x40)\n",
    "    mags = np.zeros((row_len,col_len,list_len-1))\n",
    "    angs = np.zeros((row_len,col_len,list_len-1))\n",
    "\n",
    "    for i in range(list_len-1):\n",
    "        mags[:,:,i], angs[:,:,i] = cv2.cartToPolar(flows[:,:,0,i], flows[:,:,1,i])\n",
    "\n",
    "    #이전 프레임과의 크기 및 방향의 변화량 : Ds (48x85x39)\n",
    "    Ds = np.zeros((row_sub,col_sub,list_len-2))\n",
    "\n",
    "    #15x15인 서브영역\n",
    "    sub_mags = np.zeros((15,15,list_len-1))\n",
    "    sub_angs = np.zeros((15,15,list_len-1))\n",
    "    \n",
    "    \n",
    "    # 이거 계산하는거까지 구현하기\n",
    "    \n",
    "    #이전 프레임과의 크기 및 방향의 변화량\n",
    "    w = 0.4 #weight\n",
    "\n",
    "    for a in range(row_sub):\n",
    "        for b in range(col_sub):\n",
    "            for i in range(list_len-1):\n",
    "                sub_mags[:,:,i] = mags[15*a:15*(a+1),15*b:15*(b+1),i] \n",
    "                sub_angs[:,:,i] = angs[15*a:15*(a+1),15*b:15*(b+1),i]\n",
    "\n",
    "            M = sub_mags[7,7,:]\n",
    "            V = sub_angs[7,7,:]\n",
    "            \n",
    "            for j in range(len(M)-1):\n",
    "                Ds[a,b,j] = (w*abs(M[j+1]-M[j]))+((1-w)*math.acos(V[j+1]*V[j]/abs(V[j+1]*V[j])))/math.radians(180) \n",
    "            Ds[np.isnan(Ds)]=0    \n",
    "\n",
    "\n",
    "    #Motion Binary Map : 움직임 변화가 큰 부분 추출\n",
    "    \n",
    "    th = 2.5 #Ds가 th보다 큰 부분만\n",
    "\n",
    "    MBM = np.zeros_like(Ds)\n",
    "    MBM[Ds>th]=1\n",
    "    \n",
    "    #한 영상 단위 평균\n",
    "    MBM_mean = MBM.mean(axis=2)\n",
    "\n",
    "    #모든 천개의 영상 MBM_mean 저장\n",
    "    MBM_means[:,:,video] = MBM_mean\n"
   ]
  },
  {
   "cell_type": "code",
   "execution_count": null,
   "metadata": {
    "collapsed": true
   },
   "outputs": [],
   "source": [
    "#엑셀에 저장\n",
    "f = open('HockeyTraining.csv', 'w', encoding='utf-8', newline='')\n",
    "wr = csv.writer(f)\n",
    "for i in range(1000):    \n",
    "    li = list(MBM_means[:,:,i].reshape(MBM_means.shape[0]*MBM_means.shape[1]))    \n",
    "    wr.writerow(li)\n",
    "f.close()\n",
    "\n",
    "##나중에 엑셀에서 위에서 500개 폭력, 아래 500개 비폭력 셀 추가"
   ]
  }
 ],
 "metadata": {
  "kernelspec": {
   "display_name": "Python 3",
   "language": "python",
   "name": "python3"
  },
  "language_info": {
   "codemirror_mode": {
    "name": "ipython",
    "version": 3
   },
   "file_extension": ".py",
   "mimetype": "text/x-python",
   "name": "python",
   "nbconvert_exporter": "python",
   "pygments_lexer": "ipython3",
   "version": "3.5.4"
  }
 },
 "nbformat": 4,
 "nbformat_minor": 2
}
